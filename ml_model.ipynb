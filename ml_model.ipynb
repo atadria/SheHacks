{
 "cells": [
  {
   "cell_type": "markdown",
   "id": "2ab0cfa5",
   "metadata": {},
   "source": [
    "# Sentiment Analysis with Scikit-Learn\n",
    "\n",
    "### Dataset souce: \n",
    "https://ermlab.com/en/blog/nlp/polish-sentiment-analysis-using-keras-and-word2vec/\n",
    "\n",
    "Google Drive link: https://drive.google.com/file/d/1vXqUEBjUHGGy3vV2dA7LlvBjjZlQnl0D/view\n",
    "\n",
    "### More materials\n",
    "https://scikit-learn.org/stable/tutorial/text_analytics/working_with_text_data.html"
   ]
  },
  {
   "cell_type": "markdown",
   "id": "e41d3a19",
   "metadata": {},
   "source": [
    "## Read and clean data\n",
    "More info in data_reading.ipynb notebook :) "
   ]
  },
  {
   "cell_type": "code",
   "execution_count": null,
   "id": "66594945",
   "metadata": {},
   "outputs": [],
   "source": [
    "import pandas as pd\n",
    "\n",
    "file_path = 'polish_sentiment_dataset.csv'\n",
    "\n",
    "df = pd.read_csv(file_path)\n",
    "\n",
    "# remove rows with 0 and length column\n",
    "df = df[df['rate'] != 0]\n",
    "df = df.drop('length', axis=1)\n",
    "df = df.dropna(axis=0)\n",
    "\n",
    "# check data\n",
    "df.head()"
   ]
  },
  {
   "cell_type": "code",
   "execution_count": null,
   "id": "d10caa2a",
   "metadata": {},
   "outputs": [],
   "source": [
    "# limit data - only to speed-up model training\n",
    "df = df.sample(10000, random_state=123)\n",
    "\n",
    "X = df['description']\n",
    "Y = df['rate']"
   ]
  },
  {
   "cell_type": "markdown",
   "id": "e2cb35bf",
   "metadata": {},
   "source": [
    "# Divide data into test and training"
   ]
  },
  {
   "cell_type": "code",
   "execution_count": null,
   "id": "e64e26ca",
   "metadata": {},
   "outputs": [],
   "source": [
    "from sklearn.model_selection import train_test_split\n",
    "\n",
    "# https://scikit-learn.org/stable/modules/generated/sklearn.model_selection.train_test_split.html\n",
    "X_train, X_test, Y_train, Y_test = train_test_split(X, Y, test_size=0.3, random_state=123)"
   ]
  },
  {
   "cell_type": "code",
   "execution_count": null,
   "id": "6bae45b2",
   "metadata": {},
   "outputs": [],
   "source": [
    "len(X_train) == len(Y_train)"
   ]
  },
  {
   "cell_type": "code",
   "execution_count": null,
   "id": "4a66ea92",
   "metadata": {},
   "outputs": [],
   "source": [
    "X_train.shape"
   ]
  },
  {
   "cell_type": "markdown",
   "id": "e2b7a5ba",
   "metadata": {},
   "source": [
    "# Vectorize text\n",
    "\n",
    "We will use [TF-IDF](https://monkeylearn.com/blog/what-is-tf-idf/)"
   ]
  },
  {
   "cell_type": "code",
   "execution_count": null,
   "id": "7ac2fa64",
   "metadata": {},
   "outputs": [],
   "source": [
    "from stop_words import get_stop_words\n",
    "\n",
    "# https://pypi.org/project/stop-words/\n",
    "stop_words = get_stop_words('pl')\n",
    "stop_words[:10]"
   ]
  },
  {
   "cell_type": "code",
   "execution_count": null,
   "id": "eddcac69",
   "metadata": {},
   "outputs": [],
   "source": [
    "from sklearn.feature_extraction.text import TfidfVectorizer\n",
    "\n",
    "# tf-idf vectorizer: https://scikit-learn.org/stable/modules/generated/sklearn.feature_extraction.text.TfidfVectorizer.html\n",
    "# create vectorizer\n",
    "vectorizer = TfidfVectorizer(stop_words=stop_words, lowercase=True, max_features=1000)\n",
    "\n",
    "# fit_transform = fit + transform \n",
    "X_train = vectorizer.fit_transform(X_train)\n",
    "# transform \n",
    "X_test = vectorizer.transform(X_test)"
   ]
  },
  {
   "cell_type": "code",
   "execution_count": null,
   "id": "9a35a264",
   "metadata": {},
   "outputs": [],
   "source": [
    "X_train.shape"
   ]
  },
  {
   "cell_type": "markdown",
   "id": "7bf32017",
   "metadata": {},
   "source": [
    "# Classifier \n",
    "\n",
    "We will use SVM "
   ]
  },
  {
   "cell_type": "code",
   "execution_count": null,
   "id": "3b83055f",
   "metadata": {},
   "outputs": [],
   "source": [
    "from sklearn.svm import SVC\n",
    "\n",
    "# https://scikit-learn.org/stable/modules/generated/sklearn.svm.SVC.html\n",
    "classifier = SVC(probability=True)\n",
    "\n",
    "# training :) \n",
    "classifier.fit(X_train, Y_train)"
   ]
  },
  {
   "cell_type": "markdown",
   "id": "cc74af2f",
   "metadata": {},
   "source": [
    "# Model evaluation \n",
    "Check how our model performs and predict some labels"
   ]
  },
  {
   "cell_type": "code",
   "execution_count": null,
   "id": "ab3ea2d0",
   "metadata": {},
   "outputs": [],
   "source": [
    "# on training data\n",
    "# Return the mean accuracy on the given test data and labels.\n",
    "classifier.score(X_train, Y_train)"
   ]
  },
  {
   "cell_type": "code",
   "execution_count": null,
   "id": "76413e1b",
   "metadata": {},
   "outputs": [],
   "source": [
    "# on test data\n",
    "classifier.score(X_test, Y_test)"
   ]
  },
  {
   "cell_type": "code",
   "execution_count": null,
   "id": "c18b4cfd",
   "metadata": {},
   "outputs": [],
   "source": [
    "# some predictions 1 positive, -1 negative (hejt speach)\n",
    "x = vectorizer.transform(['wspaniale, super artysta'])\n",
    "classifier.predict(x)"
   ]
  },
  {
   "cell_type": "code",
   "execution_count": null,
   "id": "71d57c8c",
   "metadata": {},
   "outputs": [],
   "source": [
    "classifier.predict_proba(x)"
   ]
  }
 ],
 "metadata": {
  "kernelspec": {
   "display_name": "Python 3 (ipykernel)",
   "language": "python",
   "name": "python3"
  },
  "language_info": {
   "codemirror_mode": {
    "name": "ipython",
    "version": 3
   },
   "file_extension": ".py",
   "mimetype": "text/x-python",
   "name": "python",
   "nbconvert_exporter": "python",
   "pygments_lexer": "ipython3",
   "version": "3.9.7"
  }
 },
 "nbformat": 4,
 "nbformat_minor": 5
}
