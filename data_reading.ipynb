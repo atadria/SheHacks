{
 "cells": [
  {
   "cell_type": "markdown",
   "id": "1fd0b9e2",
   "metadata": {},
   "source": [
    "# Unzip file"
   ]
  },
  {
   "cell_type": "code",
   "execution_count": null,
   "id": "04c6e89b",
   "metadata": {},
   "outputs": [],
   "source": [
    "# Data from: https://ermlab.com/en/blog/nlp/polish-sentiment-analysis-using-keras-and-word2vec/\n",
    "# https://drive.google.com/file/d/1vXqUEBjUHGGy3vV2dA7LlvBjjZlQnl0D/view\n",
    "\n",
    "import zipfile\n",
    "\n",
    "data_path = 'polish_sentiment_dataset.zip'\n",
    "\n",
    "\n",
    "with zipfile.ZipFile(data_path, 'r') as zip_ref:\n",
    "    zip_ref.extractall()"
   ]
  },
  {
   "cell_type": "markdown",
   "id": "69e2c27c",
   "metadata": {},
   "source": [
    "### TODO: \n",
    "Check module [tarfile](https://docs.python.org/3/library/tarfile.html) and try to unpack some .tar archives. "
   ]
  },
  {
   "cell_type": "markdown",
   "id": "a991c768",
   "metadata": {},
   "source": [
    "# Iterate over files in folder"
   ]
  },
  {
   "cell_type": "code",
   "execution_count": null,
   "id": "815e4400",
   "metadata": {
    "scrolled": false
   },
   "outputs": [],
   "source": [
    "import os\n",
    "\n",
    "directory = '.'\n",
    "\n",
    "for root, dirs, files in os.walk(directory):\n",
    "    for filename in files:\n",
    "        print(f'file: {os.path.join(root, filename)}')"
   ]
  },
  {
   "cell_type": "markdown",
   "id": "500c1a46",
   "metadata": {},
   "source": [
    "# Read text file"
   ]
  },
  {
   "cell_type": "code",
   "execution_count": null,
   "id": "257403b7",
   "metadata": {},
   "outputs": [],
   "source": [
    "with open('polish_sentiment_dataset.csv', 'r', encoding='utf-8') as file:\n",
    "    for line in file:\n",
    "        print(line)\n",
    "        break"
   ]
  },
  {
   "cell_type": "markdown",
   "id": "ad5a02af",
   "metadata": {},
   "source": [
    "# Read data using pandas"
   ]
  },
  {
   "cell_type": "code",
   "execution_count": null,
   "id": "615a5240",
   "metadata": {},
   "outputs": [],
   "source": [
    "import pandas as pd\n",
    "\n",
    "file_path = 'polish_sentiment_dataset.csv'\n",
    "\n",
    "# TODO: use read_excel (https://pandas.pydata.org/docs/reference/api/pandas.read_excel.html) for excel files \n",
    "# more about read_csv : https://pandas.pydata.org/docs/reference/api/pandas.read_csv.html - check out sep parameter \n",
    "df = pd.read_csv(file_path)\n",
    "\n",
    "# check data\n",
    "df.head()"
   ]
  },
  {
   "cell_type": "code",
   "execution_count": null,
   "id": "f2d52634",
   "metadata": {},
   "outputs": [],
   "source": [
    "df.sample(10)"
   ]
  },
  {
   "cell_type": "markdown",
   "id": "c2e28685",
   "metadata": {},
   "source": [
    "# Data summary "
   ]
  },
  {
   "cell_type": "code",
   "execution_count": null,
   "id": "02442bcd",
   "metadata": {},
   "outputs": [],
   "source": [
    "df.describe()"
   ]
  },
  {
   "cell_type": "code",
   "execution_count": null,
   "id": "f1c0830d",
   "metadata": {
    "scrolled": true
   },
   "outputs": [],
   "source": [
    "df.nunique()"
   ]
  },
  {
   "cell_type": "markdown",
   "id": "7b0253c5",
   "metadata": {},
   "source": [
    "# Data manipulation\n",
    "\n",
    "https://pandas.pydata.org/Pandas_Cheat_Sheet.pdf "
   ]
  },
  {
   "cell_type": "code",
   "execution_count": null,
   "id": "5b74231d",
   "metadata": {},
   "outputs": [],
   "source": [
    "# Drop rows with rate == 0\n",
    "\n",
    "new_df = df[df['rate'] != 0]\n",
    "\n",
    "new_df.groupby('rate')['rate'].count()"
   ]
  },
  {
   "cell_type": "code",
   "execution_count": null,
   "id": "814b4129",
   "metadata": {},
   "outputs": [],
   "source": [
    "new_df['description'].isna().sum()"
   ]
  },
  {
   "cell_type": "code",
   "execution_count": null,
   "id": "a5c4df95",
   "metadata": {},
   "outputs": [],
   "source": [
    "new_df['rate'].isna().sum()"
   ]
  },
  {
   "cell_type": "code",
   "execution_count": null,
   "id": "0f8fe374",
   "metadata": {},
   "outputs": [],
   "source": [
    "# drop rows with nan values\n",
    "new_df = new_df.dropna(axis=0)\n",
    "\n",
    "new_df['description'].isna().sum()"
   ]
  },
  {
   "cell_type": "code",
   "execution_count": null,
   "id": "2ad2bdaa",
   "metadata": {
    "scrolled": true
   },
   "outputs": [],
   "source": [
    "# Drop column \n",
    "new_df = new_df.drop('length', axis=1)\n",
    "\n",
    "new_df.sample()"
   ]
  },
  {
   "cell_type": "markdown",
   "id": "3629ca22",
   "metadata": {},
   "source": [
    "# More materials\n",
    "\n",
    "[Kaggle Pandas Course](https://www.kaggle.com/learn/pandas)\n",
    "\n",
    "And when there is no dataset:\n",
    "[Beautiful Soup: Build a Web Scraper With Python](https://realpython.com/beautiful-soup-web-scraper-python/)"
   ]
  }
 ],
 "metadata": {
  "kernelspec": {
   "display_name": "Python 3 (ipykernel)",
   "language": "python",
   "name": "python3"
  },
  "language_info": {
   "codemirror_mode": {
    "name": "ipython",
    "version": 3
   },
   "file_extension": ".py",
   "mimetype": "text/x-python",
   "name": "python",
   "nbconvert_exporter": "python",
   "pygments_lexer": "ipython3",
   "version": "3.9.7"
  }
 },
 "nbformat": 4,
 "nbformat_minor": 5
}
