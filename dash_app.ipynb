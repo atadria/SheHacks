{
 "cells": [
  {
   "cell_type": "markdown",
   "id": "5390ee94",
   "metadata": {},
   "source": [
    "# Dash\n",
    "Dash apps from Jupyter environments: https://medium.com/plotly/introducing-jupyterdash-811f1f57c02e\n",
    "\n",
    "### Dataset\n",
    "https://www.kaggle.com/datasets/crowdflower/twitter-airline-sentiment\n",
    "\n",
    "### Some inspirations: \n",
    "https://www.python-graph-gallery.com/"
   ]
  },
  {
   "cell_type": "code",
   "execution_count": null,
   "id": "4f9289df",
   "metadata": {},
   "outputs": [],
   "source": [
    "import base64\n",
    "from io import BytesIO\n",
    "from collections import Counter\n",
    "import string\n",
    "\n",
    "import pandas as pd\n",
    "import plotly.express as px\n",
    "from jupyter_dash import JupyterDash\n",
    "from dash import dcc\n",
    "from dash import html\n",
    "from dash.dependencies import Input, Output\n",
    "from wordcloud import WordCloud\n",
    "import nltk\n",
    "from nltk.tokenize import TweetTokenizer\n",
    "from nltk.corpus import stopwords\n",
    "\n",
    "nltk.download('stopwords')"
   ]
  },
  {
   "cell_type": "markdown",
   "id": "913685a8",
   "metadata": {},
   "source": [
    "# Load and prepare data for visualization"
   ]
  },
  {
   "cell_type": "code",
   "execution_count": null,
   "id": "ad4fc136",
   "metadata": {},
   "outputs": [],
   "source": [
    "# Load Data\n",
    "df = pd.read_csv('Tweets.csv')\n",
    "df.sample(5)"
   ]
  },
  {
   "cell_type": "code",
   "execution_count": null,
   "id": "dd005b38",
   "metadata": {},
   "outputs": [],
   "source": [
    "# we will use tokenized tweets for word cloud\n",
    "tweet_tokenizer = TweetTokenizer()\n",
    "\n",
    "def tokenize(text):\n",
    "    # skip stop words and punctuation\n",
    "    stop = set(stopwords.words('english') + list(string.punctuation))\n",
    "    return [x.lower() for x in tweet_tokenizer.tokenize(text) if x.lower() not in stop]\n",
    "\n",
    "# add tokenized column to df\n",
    "df['tokenized'] = df['text'].apply(lambda x: tokenize(x))\n",
    "\n",
    "\n",
    "# add date column \n",
    "df['date'] = pd.DatetimeIndex(df['tweet_created']).date"
   ]
  },
  {
   "cell_type": "code",
   "execution_count": null,
   "id": "47dc677e",
   "metadata": {},
   "outputs": [],
   "source": [
    "# options for our dropdown menu \n",
    "sentiments = ['all'] + list(df['airline_sentiment'].unique())\n",
    "sentiments"
   ]
  },
  {
   "cell_type": "code",
   "execution_count": null,
   "id": "45156440",
   "metadata": {},
   "outputs": [],
   "source": [
    "def fillter_by_sentiment(data, sentiment):\n",
    "    if sentiment == 'all':\n",
    "        return data\n",
    "    return data[data['airline_sentiment'] == sentiment]\n",
    "\n",
    "\n",
    "def word_counter(data):\n",
    "    cnt = Counter()\n",
    "    for tokenized in data:\n",
    "        cnt += Counter(tokenized)\n",
    "    return cnt"
   ]
  },
  {
   "cell_type": "markdown",
   "id": "4d454f32",
   "metadata": {},
   "source": [
    "# Dash\n",
    "\n",
    "https://dash.plotly.com/"
   ]
  },
  {
   "cell_type": "code",
   "execution_count": null,
   "id": "62fb45a1",
   "metadata": {},
   "outputs": [],
   "source": [
    "# if building Dash app in script app.py use dash instead of jupyter_dash\n",
    "# app = dash.Dash(__name__)\n",
    "\n",
    "# Dash app build in notebook: \n",
    "app = JupyterDash(__name__)"
   ]
  },
  {
   "cell_type": "markdown",
   "id": "368997f6",
   "metadata": {},
   "source": [
    "## App layout \n",
    "Some basic HTML knowledge would be nice: https://www.w3schools.com/html/html_intro.asp"
   ]
  },
  {
   "cell_type": "code",
   "execution_count": null,
   "id": "13e750d0",
   "metadata": {},
   "outputs": [],
   "source": [
    "app.layout = html.Div([\n",
    "    html.H1(\"Sentiment Analysis Dashboard\"), \n",
    "    html.Label([\n",
    "        \"Sentiment type\",\n",
    "        dcc.Dropdown(\n",
    "            id='sentiments', clearable=False,\n",
    "            value='all', options=[\n",
    "                {'label': x, 'value': x}\n",
    "                for x in sentiments\n",
    "            ])\n",
    "    ]),\n",
    "    html.Div(children=[\n",
    "        dcc.Graph(id=\"graph\", style={'display': 'inline-block'}),\n",
    "        html.Img(id=\"wordcloud\", style={'display': 'inline-block'})\n",
    "    ])\n",
    "])"
   ]
  },
  {
   "cell_type": "markdown",
   "id": "9d76fa29",
   "metadata": {},
   "source": [
    "## Callbacks \n",
    "What and when should change"
   ]
  },
  {
   "cell_type": "code",
   "execution_count": null,
   "id": "67cc022d",
   "metadata": {},
   "outputs": [],
   "source": [
    "# Define callback to update graph\n",
    "@app.callback(\n",
    "    Output('graph', 'figure'),\n",
    "    [Input('sentiments', 'value')]\n",
    ")\n",
    "def update_figure(sentiment):\n",
    "    filltered_df = fillter_by_sentiment(df, sentiment)\n",
    "    # https://plotly.com/python/histograms/\n",
    "    return px.histogram(\n",
    "        filltered_df, x=\"date\", color=\"airline_sentiment\"\n",
    "    )\n",
    "\n",
    "\n",
    "# callback to update word cloud\n",
    "@app.callback(\n",
    "    Output('wordcloud', 'src'),\n",
    "    [Input('sentiments', 'value')]\n",
    ")\n",
    "def update_wordcloud(sentiment):\n",
    "    filltered_df = fillter_by_sentiment(df, sentiment)\n",
    "    img = BytesIO()\n",
    "    wc = WordCloud(background_color='white', width=480, height=360)\n",
    "    wc.generate_from_frequencies(word_counter(filltered_df['tokenized']))\n",
    "    wc.to_image().save(img, format='PNG')\n",
    "    return 'data:image/png;base64,{}'.format(base64.b64encode(img.getvalue()).decode())"
   ]
  },
  {
   "cell_type": "markdown",
   "id": "a9c139c3",
   "metadata": {},
   "source": [
    "## Run app"
   ]
  },
  {
   "cell_type": "code",
   "execution_count": null,
   "id": "e438d62a",
   "metadata": {},
   "outputs": [],
   "source": [
    "# Run app and display result inline in the notebook\n",
    "# app.run_server(mode='inline')\n",
    "\n",
    "# Run app in new window \n",
    "app.run_server(mode='external')"
   ]
  }
 ],
 "metadata": {
  "kernelspec": {
   "display_name": "Python 3 (ipykernel)",
   "language": "python",
   "name": "python3"
  },
  "language_info": {
   "codemirror_mode": {
    "name": "ipython",
    "version": 3
   },
   "file_extension": ".py",
   "mimetype": "text/x-python",
   "name": "python",
   "nbconvert_exporter": "python",
   "pygments_lexer": "ipython3",
   "version": "3.8.9"
  }
 },
 "nbformat": 4,
 "nbformat_minor": 5
}
